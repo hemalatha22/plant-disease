{
 "cells": [
  {
   "cell_type": "code",
   "execution_count": 1,
   "metadata": {},
   "outputs": [
    {
     "name": "stderr",
     "output_type": "stream",
     "text": [
      "C:\\Users\\Hema\\Anaconda3\\envs\\tensorflow\\lib\\site-packages\\h5py\\__init__.py:36: FutureWarning: Conversion of the second argument of issubdtype from `float` to `np.floating` is deprecated. In future, it will be treated as `np.float64 == np.dtype(float).type`.\n",
      "  from ._conv import register_converters as _register_converters\n",
      "Using TensorFlow backend.\n"
     ]
    }
   ],
   "source": [
    "import os\n",
    "import numpy as np\n",
    "from pickle import dump\n",
    "import resnet\n",
    "import numpy as np\n",
    "from keras.preprocessing.image import load_img, img_to_array\n",
    "from keras.models import Model\n",
    "from os import listdir\n",
    "import cv2\n",
    "from numpy import load\n",
    "import math"
   ]
  },
  {
   "cell_type": "code",
   "execution_count": 5,
   "metadata": {},
   "outputs": [
    {
     "name": "stdout",
     "output_type": "stream",
     "text": [
      "628\n",
      "439\n",
      "564\n",
      "621\n",
      "434\n",
      "558\n",
      "275\n",
      "192\n",
      "247\n",
      "512\n",
      "358\n",
      "460\n",
      "1032\n",
      "722\n",
      "928\n",
      "985\n",
      "689\n",
      "886\n",
      "1080\n",
      "756\n",
      "972\n",
      "1146\n",
      "802\n",
      "1031\n",
      "1076\n",
      "753\n",
      "968\n",
      "1000\n",
      "700\n",
      "900\n",
      "152\n",
      "106\n",
      "136\n",
      "1000\n",
      "700\n",
      "900\n",
      "1056\n",
      "739\n",
      "950\n",
      "1000\n",
      "700\n",
      "900\n",
      "1062\n",
      "743\n",
      "955\n",
      "1032\n",
      "722\n",
      "928\n"
     ]
    }
   ],
   "source": [
    "train=list()\n",
    "test=list()\n",
    "validation=list()\n",
    "directory='D:\\Aravind\\Matlab tutorial\\SIH\\classification\\Dataset_for_classification'\n",
    "for d_name in listdir(directory):\n",
    "    sub_dir=directory+\"/\"+d_name\n",
    "    for disease_name in listdir(sub_dir):\n",
    "        im_name=list()\n",
    "        disease_dir=sub_dir+\"/\"+disease_name\n",
    "        for image_name in listdir(disease_dir):\n",
    "            image_id = image_name.split('.')[0]\n",
    "            im_name.append(image_id)\n",
    "        im_name.sort()\n",
    "        print(len(im_name))\n",
    "        c=0\n",
    "        total_length=len(im_name)\n",
    "        train.extend(im_name[0:math.floor(total_length*.7)])\n",
    "        c+=math.floor(total_length*.7)\n",
    "        print(c)\n",
    "        test.extend(im_name[c+1:c+math.floor(total_length*.2)])\n",
    "        c+=math.floor(total_length*.2)\n",
    "        print(c)\n",
    "        validation.extend(im_name[c+1:total_length])"
   ]
  },
  {
   "cell_type": "code",
   "execution_count": 6,
   "metadata": {},
   "outputs": [
    {
     "name": "stdout",
     "output_type": "stream",
     "text": [
      "9555\n",
      "2712\n",
      "1358\n"
     ]
    }
   ],
   "source": [
    "print(len(train))\n",
    "print(len(test))\n",
    "print(len(validation))\n",
    "np.savetxt('train_plant.txt', train,fmt='%s',delimiter=' ')\n",
    "np.savetxt('test_plant.txt', test,fmt='%s',delimiter=' ')\n",
    "np.savetxt('validation_plant.txt', validation,fmt='%s',delimiter=' ')"
   ]
  },
  {
   "cell_type": "code",
   "execution_count": null,
   "metadata": {},
   "outputs": [],
   "source": []
  }
 ],
 "metadata": {
  "kernelspec": {
   "display_name": "Python 3",
   "language": "python",
   "name": "python3"
  },
  "language_info": {
   "codemirror_mode": {
    "name": "ipython",
    "version": 3
   },
   "file_extension": ".py",
   "mimetype": "text/x-python",
   "name": "python",
   "nbconvert_exporter": "python",
   "pygments_lexer": "ipython3",
   "version": "3.5.4"
  }
 },
 "nbformat": 4,
 "nbformat_minor": 2
}
