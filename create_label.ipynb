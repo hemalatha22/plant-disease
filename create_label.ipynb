{
 "cells": [
  {
   "cell_type": "code",
   "execution_count": 1,
   "metadata": {},
   "outputs": [],
   "source": [
    "import numpy as np\n",
    "from os import listdir\n",
    "from pickle import dump,load"
   ]
  },
  {
   "cell_type": "code",
   "execution_count": 5,
   "metadata": {},
   "outputs": [],
   "source": [
    "class_map={'Apple___Apple_scab':0,'Apple___Black_rot':1,'Apple___Cedar_apple_rust':2,\n",
    "           'Corn_(maize)___Cercospora_leaf_spot Gray_leaf_spot':3,'Corn_(maize)___Common_rust_':4,'Corn_(maize)___Northern_Leaf_Blight':5,\n",
    "          'Grape___Black_rot':6,'Grape___Esca_(Black_Measles)':7,'Grape___Leaf_blight_(Isariopsis_Leaf_Spot)':8,\n",
    "          'Potato___Early_blight':9,'Potato___healthy':10,'Potato___Late_blight':11,\n",
    "          'Tomato___Bacterial_spot':12,'Tomato___Early_blight':13,'Tomato___Septoria_leaf_spot':14,'Tomato___Tomato_Yellow_Leaf_Curl_Virus':15}\n",
    "directory='D:\\Aravind\\Matlab tutorial\\SIH\\classification\\complete_disease\\images'\n",
    "num_class=len(class_map)"
   ]
  },
  {
   "cell_type": "code",
   "execution_count": 6,
   "metadata": {},
   "outputs": [
    {
     "name": "stdout",
     "output_type": "stream",
     "text": [
      "Apple___Apple_scab\n",
      "Apple___Black_rot\n",
      "Apple___Cedar_apple_rust\n",
      "Corn_(maize)___Cercospora_leaf_spot Gray_leaf_spot\n",
      "Corn_(maize)___Common_rust_\n",
      "Corn_(maize)___Northern_Leaf_Blight\n",
      "Grape___Black_rot\n",
      "Grape___Esca_(Black_Measles)\n",
      "Grape___Leaf_blight_(Isariopsis_Leaf_Spot)\n",
      "Potato___Early_blight\n",
      "Potato___healthy\n",
      "Potato___Late_blight\n",
      "Tomato___Bacterial_spot\n",
      "Tomato___Early_blight\n",
      "Tomato___Septoria_leaf_spot\n",
      "Tomato___Tomato_Yellow_Leaf_Curl_Virus\n"
     ]
    }
   ],
   "source": [
    "label=dict()\n",
    "for d_name in listdir(directory):\n",
    "    print(d_name)\n",
    "    sub_dir=directory+\"/\"+d_name\n",
    "    for image_name in listdir(sub_dir):\n",
    "        image_id = image_name.split('.')[0]\n",
    "        label_image=np.zeros((1,num_class))\n",
    "        label_image[0][class_map[d_name]]=1\n",
    "        label[image_id]=label_image[0]"
   ]
  },
  {
   "cell_type": "code",
   "execution_count": 9,
   "metadata": {},
   "outputs": [
    {
     "name": "stdout",
     "output_type": "stream",
     "text": [
      "13657\n"
     ]
    }
   ],
   "source": [
    "#print(label)\n",
    "print(len(label))\n",
    "dump(label, open('disease_label.pkl', 'wb'))"
   ]
  },
  {
   "cell_type": "code",
   "execution_count": null,
   "metadata": {},
   "outputs": [],
   "source": []
  }
 ],
 "metadata": {
  "kernelspec": {
   "display_name": "Python 3",
   "language": "python",
   "name": "python3"
  },
  "language_info": {
   "codemirror_mode": {
    "name": "ipython",
    "version": 3
   },
   "file_extension": ".py",
   "mimetype": "text/x-python",
   "name": "python",
   "nbconvert_exporter": "python",
   "pygments_lexer": "ipython3",
   "version": "3.5.4"
  }
 },
 "nbformat": 4,
 "nbformat_minor": 2
}
